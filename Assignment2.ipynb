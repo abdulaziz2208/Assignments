{
 "cells": [
  {
   "cell_type": "markdown",
   "metadata": {},
   "source": [
    "## TASK 1"
   ]
  },
  {
   "cell_type": "markdown",
   "metadata": {},
   "source": [
    "Question 1.1"
   ]
  },
  {
   "cell_type": "code",
   "execution_count": 1,
   "metadata": {},
   "outputs": [
    {
     "name": "stdout",
     "output_type": "stream",
     "text": [
      "23\n",
      "8.0\n"
     ]
    }
   ],
   "source": [
    "def myreduce(f,lst,initl=None):\n",
    "    itr=iter(lst)\n",
    "    if initl==None:\n",
    "        initl=next(itr)\n",
    "    for it in itr:\n",
    "        initl=f(initl,it)\n",
    "    return initl\n",
    "\n",
    "print(myreduce(lambda x,y:x if x>y else y,[16,2,2,1,23],6))\n",
    "print(myreduce(lambda x,y:x/y , [64,2,4]))"
   ]
  },
  {
   "cell_type": "markdown",
   "metadata": {},
   "source": [
    "Question 1.2"
   ]
  },
  {
   "cell_type": "code",
   "execution_count": 2,
   "metadata": {},
   "outputs": [
    {
     "name": "stdout",
     "output_type": "stream",
     "text": [
      "[16, 2]\n"
     ]
    }
   ],
   "source": [
    "def myfilter(f,lst):\n",
    "    return[i for i in lst if f(i)==True]\n",
    "print(myfilter(lambda x:x%2==0,[16,2,5,1]))    "
   ]
  },
  {
   "cell_type": "markdown",
   "metadata": {},
   "source": [
    "Question 2"
   ]
  },
  {
   "cell_type": "code",
   "execution_count": 3,
   "metadata": {},
   "outputs": [
    {
     "name": "stdout",
     "output_type": "stream",
     "text": [
      "['A', 'C', 'A', 'D', 'G', 'I', 'L', 'D']\n"
     ]
    }
   ],
   "source": [
    "word=\"ACADGILD\"\n",
    "print([w for w in word])"
   ]
  },
  {
   "cell_type": "code",
   "execution_count": 4,
   "metadata": {},
   "outputs": [
    {
     "name": "stdout",
     "output_type": "stream",
     "text": [
      "['x', 'xx', 'xxx', 'y', 'yy', 'yyy', 'z', 'zz', 'zzz']\n"
     ]
    }
   ],
   "source": [
    "lst=\"xyz\"\n",
    "print([i*j for i in lst for j in range(1,len(lst)+1)])"
   ]
  },
  {
   "cell_type": "code",
   "execution_count": 5,
   "metadata": {},
   "outputs": [
    {
     "name": "stdout",
     "output_type": "stream",
     "text": [
      "['x', 'y', 'z', 'xx', 'yy', 'zz', 'xxx', 'yyy', 'zzz']\n"
     ]
    }
   ],
   "source": [
    "lst=\"xyz\"\n",
    "print([i*j for i in range(1,len(lst)+1) for j in lst])"
   ]
  },
  {
   "cell_type": "code",
   "execution_count": 6,
   "metadata": {},
   "outputs": [
    {
     "name": "stdout",
     "output_type": "stream",
     "text": [
      "[[2], [3], [4], [3], [4], [5], [4], [5], [6]]\n"
     ]
    }
   ],
   "source": [
    "print([[i+j] for i in range(2,5) for j in range(3)])"
   ]
  },
  {
   "cell_type": "code",
   "execution_count": 7,
   "metadata": {},
   "outputs": [
    {
     "name": "stdout",
     "output_type": "stream",
     "text": [
      "[[2, 3, 4, 5], [3, 4, 5, 6], [4, 5, 6, 7], [5, 6, 7, 8]]\n"
     ]
    }
   ],
   "source": [
    "print([[i+j for j in range(0,4)] for i in range(2,6) ])"
   ]
  },
  {
   "cell_type": "code",
   "execution_count": 8,
   "metadata": {},
   "outputs": [
    {
     "name": "stdout",
     "output_type": "stream",
     "text": [
      "[(1, 1), (2, 1), (3, 1), (1, 2), (2, 2), (3, 2), (1, 3), (2, 3), (3, 3)]\n"
     ]
    }
   ],
   "source": [
    "lst=range(1,4)\n",
    "print([(j,i) for i in lst for j in lst])"
   ]
  },
  {
   "cell_type": "markdown",
   "metadata": {},
   "source": [
    "Question 3"
   ]
  },
  {
   "cell_type": "code",
   "execution_count": 9,
   "metadata": {},
   "outputs": [
    {
     "name": "stdout",
     "output_type": "stream",
     "text": [
      "finding\n",
      "longest\n"
     ]
    }
   ],
   "source": [
    "## Used custom filter function created above\n",
    "def longestWord(list_words):\n",
    "    len_longest=max(map(len,list_words))\n",
    "    for word in myfilter(lambda x:len(x)==len_longest,list_words):\n",
    "        yield word\n",
    "    \n",
    "list_words=[\"This\",\"is\",\"functi\",\"for\",\"finding\",\"longest\",\"word\"]\n",
    "for itr in longestWord(list_words):\n",
    "    print(itr)\n"
   ]
  },
  {
   "cell_type": "markdown",
   "metadata": {},
   "source": [
    "## TASK 2"
   ]
  },
  {
   "cell_type": "markdown",
   "metadata": {},
   "source": [
    "Question 1.1"
   ]
  },
  {
   "cell_type": "code",
   "execution_count": 10,
   "metadata": {},
   "outputs": [
    {
     "name": "stdout",
     "output_type": "stream",
     "text": [
      "Area of the triangle is 9.797958971132712\n"
     ]
    }
   ],
   "source": [
    "class Triangle:\n",
    "    def __init__(self,a,b,c):\n",
    "        self.a=a\n",
    "        self.b=b\n",
    "        self.c=c\n",
    "\n",
    "class Area(Triangle):\n",
    "    def __init__(self,a,b,c):\n",
    "        super(Area,self).__init__(a,b,c)\n",
    "    def _area_calc(self):\n",
    "        if (self.a+self.b > self.c and self.a+self.c > self.b and self.b+self.c > self.a):\n",
    "            s=float(self.a+self.b+self.c)/2\n",
    "            sq_area=s*(s-self.a)*(s-self.b)*(s-self.c)\n",
    "            area=sq_area**0.5\n",
    "            return area\n",
    "        else:\n",
    "            return \"Triangle not possible with these sides\"\n",
    "    def __str__(self):\n",
    "        ar=self._area_calc()\n",
    "        if type(ar) == str:\n",
    "            return ar\n",
    "        else:\n",
    "            return \"Area of the triangle is {}\".format(ar)\n",
    "\n",
    "a=Area(4,7,5)\n",
    "print(a)\n",
    "\n",
    "        \n",
    "    "
   ]
  },
  {
   "cell_type": "markdown",
   "metadata": {},
   "source": [
    "Question 1.2"
   ]
  },
  {
   "cell_type": "code",
   "execution_count": 11,
   "metadata": {},
   "outputs": [
    {
     "name": "stdout",
     "output_type": "stream",
     "text": [
      "['awerfdee', 'sdfrewd']\n"
     ]
    }
   ],
   "source": [
    " def filter_long_words(word_lst,n):\n",
    "        return list(filter(lambda x:len(x)>n,word_lst))\n",
    "print(filter_long_words([\"asfz\",\"awerfdee\",\"ooi\",\"sdfrewd\"],4))"
   ]
  },
  {
   "cell_type": "markdown",
   "metadata": {},
   "source": [
    "Question 2.1"
   ]
  },
  {
   "cell_type": "code",
   "execution_count": 12,
   "metadata": {},
   "outputs": [
    {
     "name": "stdout",
     "output_type": "stream",
     "text": [
      "[3, 5, 2]\n"
     ]
    }
   ],
   "source": [
    "#seq=[\"abc\",\"defgh\",\"ij\"]\n",
    "#y=list(map(lambda x:len(x),seq))\n",
    "#print(y)\n",
    "\n",
    "\n",
    "def map_word_length(lst):\n",
    "    return ([len(i) for i in lst])\n",
    "print(map_word_length([\"abc\",\"defgh\",\"ij\"]))"
   ]
  },
  {
   "cell_type": "markdown",
   "metadata": {},
   "source": [
    "Question 2.2"
   ]
  },
  {
   "cell_type": "code",
   "execution_count": 13,
   "metadata": {},
   "outputs": [
    {
     "name": "stdout",
     "output_type": "stream",
     "text": [
      "True\n",
      "False\n"
     ]
    }
   ],
   "source": [
    "vowels=['a','e','i','o','u']\n",
    "y=lambda x:True if (x.lower() in vowels) else False\n",
    "print(y('a'))\n",
    "print(y('d'))"
   ]
  }
 ],
 "metadata": {
  "kernelspec": {
   "display_name": "Python 3",
   "language": "python",
   "name": "python3"
  },
  "language_info": {
   "codemirror_mode": {
    "name": "ipython",
    "version": 3
   },
   "file_extension": ".py",
   "mimetype": "text/x-python",
   "name": "python",
   "nbconvert_exporter": "python",
   "pygments_lexer": "ipython3",
   "version": "3.7.1"
  }
 },
 "nbformat": 4,
 "nbformat_minor": 2
}
